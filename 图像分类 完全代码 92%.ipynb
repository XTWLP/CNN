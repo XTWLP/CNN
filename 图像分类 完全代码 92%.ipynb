{
  "nbformat": 4,
  "nbformat_minor": 0,
  "metadata": {
    "colab": {
      "name": "图像分类.ipynb",
      "provenance": [],
      "collapsed_sections": [],
      "authorship_tag": "ABX9TyPIHsS8tL0eDq/17VAyLosj",
      "include_colab_link": true
    },
    "kernelspec": {
      "name": "python3",
      "display_name": "Python 3"
    },
    "accelerator": "GPU",
    "widgets": {
      "application/vnd.jupyter.widget-state+json": {
        "17e7ddb937214ff19a274cbc62f708a7": {
          "model_module": "@jupyter-widgets/controls",
          "model_name": "HBoxModel",
          "state": {
            "_view_name": "HBoxView",
            "_dom_classes": [],
            "_model_name": "HBoxModel",
            "_view_module": "@jupyter-widgets/controls",
            "_model_module_version": "1.5.0",
            "_view_count": null,
            "_view_module_version": "1.5.0",
            "box_style": "",
            "layout": "IPY_MODEL_18e15c104519423d87070a6c5e81207a",
            "_model_module": "@jupyter-widgets/controls",
            "children": [
              "IPY_MODEL_e7f79018b72a4bf0a368ad30b50dcdad",
              "IPY_MODEL_cf51abebf5b14462a49fb07c1601d85d"
            ]
          }
        },
        "18e15c104519423d87070a6c5e81207a": {
          "model_module": "@jupyter-widgets/base",
          "model_name": "LayoutModel",
          "state": {
            "_view_name": "LayoutView",
            "grid_template_rows": null,
            "right": null,
            "justify_content": null,
            "_view_module": "@jupyter-widgets/base",
            "overflow": null,
            "_model_module_version": "1.2.0",
            "_view_count": null,
            "flex_flow": null,
            "width": null,
            "min_width": null,
            "border": null,
            "align_items": null,
            "bottom": null,
            "_model_module": "@jupyter-widgets/base",
            "top": null,
            "grid_column": null,
            "overflow_y": null,
            "overflow_x": null,
            "grid_auto_flow": null,
            "grid_area": null,
            "grid_template_columns": null,
            "flex": null,
            "_model_name": "LayoutModel",
            "justify_items": null,
            "grid_row": null,
            "max_height": null,
            "align_content": null,
            "visibility": null,
            "align_self": null,
            "height": null,
            "min_height": null,
            "padding": null,
            "grid_auto_rows": null,
            "grid_gap": null,
            "max_width": null,
            "order": null,
            "_view_module_version": "1.2.0",
            "grid_template_areas": null,
            "object_position": null,
            "object_fit": null,
            "grid_auto_columns": null,
            "margin": null,
            "display": null,
            "left": null
          }
        },
        "e7f79018b72a4bf0a368ad30b50dcdad": {
          "model_module": "@jupyter-widgets/controls",
          "model_name": "FloatProgressModel",
          "state": {
            "_view_name": "ProgressView",
            "style": "IPY_MODEL_c3ddd68070934ff4a9969a03a1fe176d",
            "_dom_classes": [],
            "description": "",
            "_model_name": "FloatProgressModel",
            "bar_style": "info",
            "max": 1,
            "_view_module": "@jupyter-widgets/controls",
            "_model_module_version": "1.5.0",
            "value": 1,
            "_view_count": null,
            "_view_module_version": "1.5.0",
            "orientation": "horizontal",
            "min": 0,
            "description_tooltip": null,
            "_model_module": "@jupyter-widgets/controls",
            "layout": "IPY_MODEL_92a4c1d1b318401285f67f7bc3d641bc"
          }
        },
        "cf51abebf5b14462a49fb07c1601d85d": {
          "model_module": "@jupyter-widgets/controls",
          "model_name": "HTMLModel",
          "state": {
            "_view_name": "HTMLView",
            "style": "IPY_MODEL_dfad5dec94a14a40a4102e41ce9b04fd",
            "_dom_classes": [],
            "description": "",
            "_model_name": "HTMLModel",
            "placeholder": "​",
            "_view_module": "@jupyter-widgets/controls",
            "_model_module_version": "1.5.0",
            "value": " 170500096/? [00:20&lt;00:00, 51731209.51it/s]",
            "_view_count": null,
            "_view_module_version": "1.5.0",
            "description_tooltip": null,
            "_model_module": "@jupyter-widgets/controls",
            "layout": "IPY_MODEL_282f1ab8e1ab4d2988f9161e557341af"
          }
        },
        "c3ddd68070934ff4a9969a03a1fe176d": {
          "model_module": "@jupyter-widgets/controls",
          "model_name": "ProgressStyleModel",
          "state": {
            "_view_name": "StyleView",
            "_model_name": "ProgressStyleModel",
            "description_width": "initial",
            "_view_module": "@jupyter-widgets/base",
            "_model_module_version": "1.5.0",
            "_view_count": null,
            "_view_module_version": "1.2.0",
            "bar_color": null,
            "_model_module": "@jupyter-widgets/controls"
          }
        },
        "92a4c1d1b318401285f67f7bc3d641bc": {
          "model_module": "@jupyter-widgets/base",
          "model_name": "LayoutModel",
          "state": {
            "_view_name": "LayoutView",
            "grid_template_rows": null,
            "right": null,
            "justify_content": null,
            "_view_module": "@jupyter-widgets/base",
            "overflow": null,
            "_model_module_version": "1.2.0",
            "_view_count": null,
            "flex_flow": null,
            "width": null,
            "min_width": null,
            "border": null,
            "align_items": null,
            "bottom": null,
            "_model_module": "@jupyter-widgets/base",
            "top": null,
            "grid_column": null,
            "overflow_y": null,
            "overflow_x": null,
            "grid_auto_flow": null,
            "grid_area": null,
            "grid_template_columns": null,
            "flex": null,
            "_model_name": "LayoutModel",
            "justify_items": null,
            "grid_row": null,
            "max_height": null,
            "align_content": null,
            "visibility": null,
            "align_self": null,
            "height": null,
            "min_height": null,
            "padding": null,
            "grid_auto_rows": null,
            "grid_gap": null,
            "max_width": null,
            "order": null,
            "_view_module_version": "1.2.0",
            "grid_template_areas": null,
            "object_position": null,
            "object_fit": null,
            "grid_auto_columns": null,
            "margin": null,
            "display": null,
            "left": null
          }
        },
        "dfad5dec94a14a40a4102e41ce9b04fd": {
          "model_module": "@jupyter-widgets/controls",
          "model_name": "DescriptionStyleModel",
          "state": {
            "_view_name": "StyleView",
            "_model_name": "DescriptionStyleModel",
            "description_width": "",
            "_view_module": "@jupyter-widgets/base",
            "_model_module_version": "1.5.0",
            "_view_count": null,
            "_view_module_version": "1.2.0",
            "_model_module": "@jupyter-widgets/controls"
          }
        },
        "282f1ab8e1ab4d2988f9161e557341af": {
          "model_module": "@jupyter-widgets/base",
          "model_name": "LayoutModel",
          "state": {
            "_view_name": "LayoutView",
            "grid_template_rows": null,
            "right": null,
            "justify_content": null,
            "_view_module": "@jupyter-widgets/base",
            "overflow": null,
            "_model_module_version": "1.2.0",
            "_view_count": null,
            "flex_flow": null,
            "width": null,
            "min_width": null,
            "border": null,
            "align_items": null,
            "bottom": null,
            "_model_module": "@jupyter-widgets/base",
            "top": null,
            "grid_column": null,
            "overflow_y": null,
            "overflow_x": null,
            "grid_auto_flow": null,
            "grid_area": null,
            "grid_template_columns": null,
            "flex": null,
            "_model_name": "LayoutModel",
            "justify_items": null,
            "grid_row": null,
            "max_height": null,
            "align_content": null,
            "visibility": null,
            "align_self": null,
            "height": null,
            "min_height": null,
            "padding": null,
            "grid_auto_rows": null,
            "grid_gap": null,
            "max_width": null,
            "order": null,
            "_view_module_version": "1.2.0",
            "grid_template_areas": null,
            "object_position": null,
            "object_fit": null,
            "grid_auto_columns": null,
            "margin": null,
            "display": null,
            "left": null
          }
        }
      }
    }
  },
  "cells": [
    {
      "cell_type": "markdown",
      "metadata": {
        "id": "view-in-github",
        "colab_type": "text"
      },
      "source": [
        "<a href=\"https://colab.research.google.com/github/XTWLP/CNN/blob/master/%E5%9B%BE%E5%83%8F%E5%88%86%E7%B1%BB%20%E5%AE%8C%E5%85%A8%E4%BB%A3%E7%A0%81%2092%25.ipynb\" target=\"_parent\"><img src=\"https://colab.research.google.com/assets/colab-badge.svg\" alt=\"Open In Colab\"/></a>"
      ]
    },
    {
      "cell_type": "code",
      "metadata": {
        "id": "1kuIIpVDfhqI"
      },
      "source": [
        "import torch as t\n",
        "import torchvision as tv\n",
        "import torchvision.transforms as transforms\n",
        "from torch.autograd import Variable\n",
        "from torchvision.transforms import ToPILImage\n",
        "show = ToPILImage() #可以将Tensor转成Image，方便可视化"
      ],
      "execution_count": 1,
      "outputs": []
    },
    {
      "cell_type": "code",
      "metadata": {
        "id": "lGNku2m7fvaT",
        "outputId": "067938c4-7990-41b4-9166-7c2b28a90c00",
        "colab": {
          "base_uri": "https://localhost:8080/",
          "height": 100,
          "referenced_widgets": [
            "17e7ddb937214ff19a274cbc62f708a7",
            "18e15c104519423d87070a6c5e81207a",
            "e7f79018b72a4bf0a368ad30b50dcdad",
            "cf51abebf5b14462a49fb07c1601d85d",
            "c3ddd68070934ff4a9969a03a1fe176d",
            "92a4c1d1b318401285f67f7bc3d641bc",
            "dfad5dec94a14a40a4102e41ce9b04fd",
            "282f1ab8e1ab4d2988f9161e557341af"
          ]
        }
      },
      "source": [
        "transform = transforms.Compose([\n",
        "    transforms.ToTensor(),\n",
        "    transforms.Normalize((0.5,0.5,0.5),(0.5,0.5,0.5))\n",
        "])\n",
        "trainset = tv.datasets.CIFAR10(root='/home/cy/data/',\n",
        "                               train=True,\n",
        "                               download=True,\n",
        "                               transform=transform)\n",
        "trainloader = t.utils.data.DataLoader(trainset,\n",
        "                                      batch_size=4,\n",
        "                                      shuffle=True,\n",
        "                                      num_workers=2)\n",
        "testset = tv.datasets.CIFAR10(root='/home/cy/data/',\n",
        "                              train=False,\n",
        "                              download=True,\n",
        "                              transform=transform)\n",
        "testloader = t.utils.data.DataLoader(trainset,\n",
        "                                      batch_size=4,\n",
        "                                      shuffle=False,\n",
        "                                      num_workers=2)\n",
        "classes = ('plane','car','bird','cat',\n",
        "           'deer','dog','frog','house','ship','truck')"
      ],
      "execution_count": 2,
      "outputs": [
        {
          "output_type": "stream",
          "text": [
            "Downloading https://www.cs.toronto.edu/~kriz/cifar-10-python.tar.gz to /home/cy/data/cifar-10-python.tar.gz\n"
          ],
          "name": "stdout"
        },
        {
          "output_type": "display_data",
          "data": {
            "application/vnd.jupyter.widget-view+json": {
              "model_id": "17e7ddb937214ff19a274cbc62f708a7",
              "version_minor": 0,
              "version_major": 2
            },
            "text/plain": [
              "HBox(children=(FloatProgress(value=1.0, bar_style='info', max=1.0), HTML(value='')))"
            ]
          },
          "metadata": {
            "tags": []
          }
        },
        {
          "output_type": "stream",
          "text": [
            "Extracting /home/cy/data/cifar-10-python.tar.gz to /home/cy/data/\n",
            "Files already downloaded and verified\n"
          ],
          "name": "stdout"
        }
      ]
    },
    {
      "cell_type": "code",
      "metadata": {
        "id": "-9gD9vb6wxAE",
        "outputId": "ff710920-d6f2-460f-8e1c-42688e0fe2f7",
        "colab": {
          "base_uri": "https://localhost:8080/",
          "height": 170
        }
      },
      "source": [
        "trainset"
      ],
      "execution_count": 3,
      "outputs": [
        {
          "output_type": "execute_result",
          "data": {
            "text/plain": [
              "Dataset CIFAR10\n",
              "    Number of datapoints: 50000\n",
              "    Root location: /home/cy/data/\n",
              "    Split: Train\n",
              "    StandardTransform\n",
              "Transform: Compose(\n",
              "               ToTensor()\n",
              "               Normalize(mean=(0.5, 0.5, 0.5), std=(0.5, 0.5, 0.5))\n",
              "           )"
            ]
          },
          "metadata": {
            "tags": []
          },
          "execution_count": 3
        }
      ]
    },
    {
      "cell_type": "code",
      "metadata": {
        "id": "uqVv5Ci4hh3j",
        "outputId": "58abcf18-0c09-4e3f-8ad5-7bb3e166853b",
        "colab": {
          "base_uri": "https://localhost:8080/",
          "height": 66
        }
      },
      "source": [
        "(data, label) = trainset[100]\n",
        "print(classes[label])\n",
        "\n",
        "show((data + 1) / 2)"
      ],
      "execution_count": 4,
      "outputs": [
        {
          "output_type": "stream",
          "text": [
            "ship\n"
          ],
          "name": "stdout"
        },
        {
          "output_type": "execute_result",
          "data": {
            "image/png": "[encoded data removed]",
            "text/plain": [
              "<PIL.Image.Image image mode=RGB size=32x32 at 0x7F75C8D280F0>"
            ]
          },
          "metadata": {
            "tags": []
          },
          "execution_count": 4
        }
      ]
    },
    {
      "cell_type": "code",
      "metadata": {
        "id": "m3rrU1BwiwKo",
        "outputId": "b9d6083f-f68f-456a-a5a2-966bdb591dc4",
        "colab": {
          "base_uri": "https://localhost:8080/",
          "height": 134
        }
      },
      "source": [
        "dataiter = iter(trainloader)\n",
        "images, labels = dataiter.next()\n",
        "print(''.join('%12s'%classes[labels[j]] for j in range(4)))\n",
        "show(tv.utils.make_grid((images+1)/2)).resize((400,100))"
      ],
      "execution_count": 5,
      "outputs": [
        {
          "output_type": "stream",
          "text": [
            "        frog         dog        frog       house\n"
          ],
          "name": "stdout"
        },
        {
          "output_type": "execute_result",
          "data": {
            "image/png": "[encoded data removed]",
            "text/plain": [
              "<PIL.Image.Image image mode=RGB size=400x100 at 0x7F75C7914860>"
            ]
          },
          "metadata": {
            "tags": []
          },
          "execution_count": 5
        }
      ]
    },
    {
      "cell_type": "code",
      "metadata": {
        "id": "2WpkvXQXlSXX",
        "outputId": "06c8b9d0-ed40-4af1-e7aa-aba39bcea80d",
        "colab": {
          "base_uri": "https://localhost:8080/",
          "height": 136
        }
      },
      "source": [
        "import torch.nn as nn\n",
        "import torch.nn.functional as F\n",
        "\n",
        "class Net(nn.Module):\n",
        "  def __init__(self):\n",
        "    super(Net, self).__init__()\n",
        "    self.conv1 = nn.Conv2d(3, 6, 5)\n",
        "    self.conv2 = nn.Conv2d(6, 16, 5)\n",
        "    self.fc1 = nn.Linear(16*5*5, 120)\n",
        "    self.fc2 = nn.Linear(120, 84)\n",
        "    self.fc3 = nn.Linear(84, 10)\n",
        "  def forward(self, x):\n",
        "    x = F.max_pool2d(F.relu(self.conv1(x)),(2,2))\n",
        "    x = F.max_pool2d(F.relu(self.conv2(x)),2)\n",
        "    x = x.view(x.size()[0],-1)\n",
        "    x = F.relu(self.fc1(x))\n",
        "    x = F.relu(self.fc2(x))\n",
        "    x = self.fc3(x)\n",
        "    return x\n",
        "\n",
        "net = Net()\n",
        "print(net)"
      ],
      "execution_count": 6,
      "outputs": [
        {
          "output_type": "stream",
          "text": [
            "Net(\n",
            "  (conv1): Conv2d(3, 6, kernel_size=(5, 5), stride=(1, 1))\n",
            "  (conv2): Conv2d(6, 16, kernel_size=(5, 5), stride=(1, 1))\n",
            "  (fc1): Linear(in_features=400, out_features=120, bias=True)\n",
            "  (fc2): Linear(in_features=120, out_features=84, bias=True)\n",
            "  (fc3): Linear(in_features=84, out_features=10, bias=True)\n",
            ")\n"
          ],
          "name": "stdout"
        }
      ]
    },
    {
      "cell_type": "code",
      "metadata": {
        "id": "zZHJ4ANboswL"
      },
      "source": [
        "from torch import optim\n",
        "criterion = nn.CrossEntropyLoss()\n",
        "optimizer = optim.SGD(net.parameters(),lr=0.001,momentum=0.9,nesterov=True)"
      ],
      "execution_count": 7,
      "outputs": []
    },
    {
      "cell_type": "code",
      "metadata": {
        "id": "RNwsLZU2wMpv",
        "outputId": "857f7b80-5f60-4007-b45a-1f1790db442b",
        "colab": {
          "base_uri": "https://localhost:8080/",
          "height": 1000
        }
      },
      "source": [
        "for epoch in range(20):\n",
        "  running_loss = 0.0\n",
        "  for i, data in enumerate(trainloader, 0):\n",
        "    inputs, labels = data\n",
        "    inputs, labels = Variable(inputs), Variable(labels)\n",
        "    device = t.device(\"cuda:0\" if t.cuda.is_available() else \"cpu\")\n",
        "    inputs, labels = data[0].to(device), data[1].to(device)\n",
        "    \n",
        "    net.to(device)\n",
        "    optimizer.zero_grad()\n",
        "\n",
        "    outputs = net(inputs)\n",
        "    loss = criterion(outputs, labels)\n",
        "    loss.backward()\n",
        "\n",
        "    optimizer.step()\n",
        "\n",
        "    running_loss += loss.data\n",
        "    if i%2000 == 1999:\n",
        "      print('[%d, %5d] loss: %.3f'\\\n",
        "            %(epoch+1,i+1,running_loss/2000))\n",
        "      running_loss = 0.0\n",
        "print('Finshed Training')"
      ],
      "execution_count": 8,
      "outputs": [
        {
          "output_type": "stream",
          "text": [
            "[1,  2000] loss: 2.229\n",
            "[1,  4000] loss: 1.857\n",
            "[1,  6000] loss: 1.678\n",
            "[1,  8000] loss: 1.564\n",
            "[1, 10000] loss: 1.524\n",
            "[1, 12000] loss: 1.451\n",
            "[2,  2000] loss: 1.406\n",
            "[2,  4000] loss: 1.373\n",
            "[2,  6000] loss: 1.323\n",
            "[2,  8000] loss: 1.294\n",
            "[2, 10000] loss: 1.305\n",
            "[2, 12000] loss: 1.252\n",
            "[3,  2000] loss: 1.193\n",
            "[3,  4000] loss: 1.203\n",
            "[3,  6000] loss: 1.192\n",
            "[3,  8000] loss: 1.180\n",
            "[3, 10000] loss: 1.166\n",
            "[3, 12000] loss: 1.181\n",
            "[4,  2000] loss: 1.094\n",
            "[4,  4000] loss: 1.120\n",
            "[4,  6000] loss: 1.093\n",
            "[4,  8000] loss: 1.113\n",
            "[4, 10000] loss: 1.110\n",
            "[4, 12000] loss: 1.080\n",
            "[5,  2000] loss: 0.991\n",
            "[5,  4000] loss: 1.015\n",
            "[5,  6000] loss: 1.036\n",
            "[5,  8000] loss: 1.045\n",
            "[5, 10000] loss: 1.051\n",
            "[5, 12000] loss: 1.045\n",
            "[6,  2000] loss: 0.944\n",
            "[6,  4000] loss: 0.965\n",
            "[6,  6000] loss: 0.995\n",
            "[6,  8000] loss: 0.978\n",
            "[6, 10000] loss: 0.999\n",
            "[6, 12000] loss: 0.986\n",
            "[7,  2000] loss: 0.900\n",
            "[7,  4000] loss: 0.908\n",
            "[7,  6000] loss: 0.937\n",
            "[7,  8000] loss: 0.943\n",
            "[7, 10000] loss: 0.948\n",
            "[7, 12000] loss: 0.955\n",
            "[8,  2000] loss: 0.841\n",
            "[8,  4000] loss: 0.880\n",
            "[8,  6000] loss: 0.890\n",
            "[8,  8000] loss: 0.902\n",
            "[8, 10000] loss: 0.928\n",
            "[8, 12000] loss: 0.910\n",
            "[9,  2000] loss: 0.807\n",
            "[9,  4000] loss: 0.854\n",
            "[9,  6000] loss: 0.851\n",
            "[9,  8000] loss: 0.897\n",
            "[9, 10000] loss: 0.884\n",
            "[9, 12000] loss: 0.896\n",
            "[10,  2000] loss: 0.785\n",
            "[10,  4000] loss: 0.820\n",
            "[10,  6000] loss: 0.835\n",
            "[10,  8000] loss: 0.856\n",
            "[10, 10000] loss: 0.848\n",
            "[10, 12000] loss: 0.846\n",
            "[11,  2000] loss: 0.738\n",
            "[11,  4000] loss: 0.767\n",
            "[11,  6000] loss: 0.814\n",
            "[11,  8000] loss: 0.804\n",
            "[11, 10000] loss: 0.837\n",
            "[11, 12000] loss: 0.851\n",
            "[12,  2000] loss: 0.720\n",
            "[12,  4000] loss: 0.767\n",
            "[12,  6000] loss: 0.788\n",
            "[12,  8000] loss: 0.772\n",
            "[12, 10000] loss: 0.821\n",
            "[12, 12000] loss: 0.819\n",
            "[13,  2000] loss: 0.703\n",
            "[13,  4000] loss: 0.716\n",
            "[13,  6000] loss: 0.746\n",
            "[13,  8000] loss: 0.792\n",
            "[13, 10000] loss: 0.781\n",
            "[13, 12000] loss: 0.795\n",
            "[14,  2000] loss: 0.673\n",
            "[14,  4000] loss: 0.722\n",
            "[14,  6000] loss: 0.756\n",
            "[14,  8000] loss: 0.760\n",
            "[14, 10000] loss: 0.772\n",
            "[14, 12000] loss: 0.785\n",
            "[15,  2000] loss: 0.667\n",
            "[15,  4000] loss: 0.710\n",
            "[15,  6000] loss: 0.719\n",
            "[15,  8000] loss: 0.743\n",
            "[15, 10000] loss: 0.742\n",
            "[15, 12000] loss: 0.752\n",
            "[16,  2000] loss: 0.639\n",
            "[16,  4000] loss: 0.680\n",
            "[16,  6000] loss: 0.721\n",
            "[16,  8000] loss: 0.711\n",
            "[16, 10000] loss: 0.761\n",
            "[16, 12000] loss: 0.766\n",
            "[17,  2000] loss: 0.638\n",
            "[17,  4000] loss: 0.673\n",
            "[17,  6000] loss: 0.709\n",
            "[17,  8000] loss: 0.717\n",
            "[17, 10000] loss: 0.739\n",
            "[17, 12000] loss: 0.738\n",
            "[18,  2000] loss: 0.609\n",
            "[18,  4000] loss: 0.659\n",
            "[18,  6000] loss: 0.692\n",
            "[18,  8000] loss: 0.712\n",
            "[18, 10000] loss: 0.728\n",
            "[18, 12000] loss: 0.734\n",
            "[19,  2000] loss: 0.625\n",
            "[19,  4000] loss: 0.651\n",
            "[19,  6000] loss: 0.668\n",
            "[19,  8000] loss: 0.686\n",
            "[19, 10000] loss: 0.680\n",
            "[19, 12000] loss: 0.719\n",
            "[20,  2000] loss: 0.599\n",
            "[20,  4000] loss: 0.633\n",
            "[20,  6000] loss: 0.655\n",
            "[20,  8000] loss: 0.696\n",
            "[20, 10000] loss: 0.697\n",
            "[20, 12000] loss: 0.711\n",
            "Finshed Training\n"
          ],
          "name": "stdout"
        }
      ]
    },
    {
      "cell_type": "code",
      "metadata": {
        "id": "EYq2Xa8KzFu1"
      },
      "source": [
        "optimizer = optim.Adam(net.parameters(), lr=0.001, betas=(0.9, 0.999), eps=1e-08, weight_decay=0, amsgrad=True)"
      ],
      "execution_count": 9,
      "outputs": []
    },
    {
      "cell_type": "code",
      "metadata": {
        "id": "ORjJAXqgzb8e",
        "outputId": "4244e6ea-27a6-406e-90a2-faaaab5801b7",
        "colab": {
          "base_uri": "https://localhost:8080/",
          "height": 1000
        }
      },
      "source": [
        "for epoch in range(21):\n",
        "  running_loss = 0.0\n",
        "  for i, data in enumerate(trainloader, 0):\n",
        "    inputs, labels = data\n",
        "    inputs, labels = Variable(inputs), Variable(labels)\n",
        "    device = t.device(\"cuda:0\" if t.cuda.is_available() else \"cpu\")\n",
        "    inputs, labels = data[0].to(device), data[1].to(device)\n",
        "    \n",
        "    net.to(device)\n",
        "    optimizer.zero_grad()\n",
        "\n",
        "    outputs = net(inputs)\n",
        "    loss = criterion(outputs, labels)\n",
        "    loss.backward()\n",
        "\n",
        "    optimizer.step()\n",
        "\n",
        "    running_loss += loss.data\n",
        "    if i%2000 == 1999:\n",
        "      print('[%d, %5d] loss: %.3f'\\\n",
        "            %(epoch+1,i+1,running_loss/2000))\n",
        "      running_loss = 0.0\n",
        "print('Finshed Training')"
      ],
      "execution_count": 10,
      "outputs": [
        {
          "output_type": "stream",
          "text": [
            "[1,  2000] loss: 0.727\n",
            "[1,  4000] loss: 0.780\n",
            "[1,  6000] loss: 0.782\n",
            "[1,  8000] loss: 0.788\n",
            "[1, 10000] loss: 0.786\n",
            "[1, 12000] loss: 0.792\n",
            "[2,  2000] loss: 0.612\n",
            "[2,  4000] loss: 0.642\n",
            "[2,  6000] loss: 0.668\n",
            "[2,  8000] loss: 0.683\n",
            "[2, 10000] loss: 0.708\n",
            "[2, 12000] loss: 0.703\n",
            "[3,  2000] loss: 0.562\n",
            "[3,  4000] loss: 0.595\n",
            "[3,  6000] loss: 0.620\n",
            "[3,  8000] loss: 0.639\n",
            "[3, 10000] loss: 0.655\n",
            "[3, 12000] loss: 0.655\n",
            "[4,  2000] loss: 0.501\n",
            "[4,  4000] loss: 0.557\n",
            "[4,  6000] loss: 0.586\n",
            "[4,  8000] loss: 0.630\n",
            "[4, 10000] loss: 0.600\n",
            "[4, 12000] loss: 0.619\n",
            "[5,  2000] loss: 0.478\n",
            "[5,  4000] loss: 0.527\n",
            "[5,  6000] loss: 0.556\n",
            "[5,  8000] loss: 0.560\n",
            "[5, 10000] loss: 0.572\n",
            "[5, 12000] loss: 0.621\n",
            "[6,  2000] loss: 0.461\n",
            "[6,  4000] loss: 0.488\n",
            "[6,  6000] loss: 0.558\n",
            "[6,  8000] loss: 0.560\n",
            "[6, 10000] loss: 0.561\n",
            "[6, 12000] loss: 0.564\n",
            "[7,  2000] loss: 0.435\n",
            "[7,  4000] loss: 0.466\n",
            "[7,  6000] loss: 0.497\n",
            "[7,  8000] loss: 0.507\n",
            "[7, 10000] loss: 0.527\n",
            "[7, 12000] loss: 0.565\n",
            "[8,  2000] loss: 0.409\n",
            "[8,  4000] loss: 0.456\n",
            "[8,  6000] loss: 0.465\n",
            "[8,  8000] loss: 0.505\n",
            "[8, 10000] loss: 0.519\n",
            "[8, 12000] loss: 0.538\n",
            "[9,  2000] loss: 0.380\n",
            "[9,  4000] loss: 0.440\n",
            "[9,  6000] loss: 0.453\n",
            "[9,  8000] loss: 0.471\n",
            "[9, 10000] loss: 0.475\n",
            "[9, 12000] loss: 0.518\n",
            "[10,  2000] loss: 0.365\n",
            "[10,  4000] loss: 0.421\n",
            "[10,  6000] loss: 0.413\n",
            "[10,  8000] loss: 0.472\n",
            "[10, 10000] loss: 0.478\n",
            "[10, 12000] loss: 0.518\n",
            "[11,  2000] loss: 0.372\n",
            "[11,  4000] loss: 0.403\n",
            "[11,  6000] loss: 0.421\n",
            "[11,  8000] loss: 0.446\n",
            "[11, 10000] loss: 0.447\n",
            "[11, 12000] loss: 0.471\n",
            "[12,  2000] loss: 0.342\n",
            "[12,  4000] loss: 0.378\n",
            "[12,  6000] loss: 0.414\n",
            "[12,  8000] loss: 0.428\n",
            "[12, 10000] loss: 0.439\n",
            "[12, 12000] loss: 0.446\n",
            "[13,  2000] loss: 0.329\n",
            "[13,  4000] loss: 0.354\n",
            "[13,  6000] loss: 0.386\n",
            "[13,  8000] loss: 0.420\n",
            "[13, 10000] loss: 0.433\n",
            "[13, 12000] loss: 0.440\n",
            "[14,  2000] loss: 0.318\n",
            "[14,  4000] loss: 0.347\n",
            "[14,  6000] loss: 0.364\n",
            "[14,  8000] loss: 0.376\n",
            "[14, 10000] loss: 0.426\n",
            "[14, 12000] loss: 0.437\n",
            "[15,  2000] loss: 0.312\n",
            "[15,  4000] loss: 0.329\n",
            "[15,  6000] loss: 0.371\n",
            "[15,  8000] loss: 0.378\n",
            "[15, 10000] loss: 0.407\n",
            "[15, 12000] loss: 0.407\n",
            "[16,  2000] loss: 0.283\n",
            "[16,  4000] loss: 0.317\n",
            "[16,  6000] loss: 0.353\n",
            "[16,  8000] loss: 0.370\n",
            "[16, 10000] loss: 0.394\n",
            "[16, 12000] loss: 0.394\n",
            "[17,  2000] loss: 0.294\n",
            "[17,  4000] loss: 0.308\n",
            "[17,  6000] loss: 0.351\n",
            "[17,  8000] loss: 0.346\n",
            "[17, 10000] loss: 0.348\n",
            "[17, 12000] loss: 0.392\n",
            "[18,  2000] loss: 0.287\n",
            "[18,  4000] loss: 0.317\n",
            "[18,  6000] loss: 0.305\n",
            "[18,  8000] loss: 0.328\n",
            "[18, 10000] loss: 0.369\n",
            "[18, 12000] loss: 0.372\n",
            "[19,  2000] loss: 0.285\n",
            "[19,  4000] loss: 0.283\n",
            "[19,  6000] loss: 0.327\n",
            "[19,  8000] loss: 0.328\n",
            "[19, 10000] loss: 0.363\n",
            "[19, 12000] loss: 0.399\n",
            "[20,  2000] loss: 0.257\n",
            "[20,  4000] loss: 0.275\n",
            "[20,  6000] loss: 0.304\n",
            "[20,  8000] loss: 0.344\n",
            "[20, 10000] loss: 0.309\n",
            "[20, 12000] loss: 0.360\n",
            "[21,  2000] loss: 0.229\n",
            "[21,  4000] loss: 0.244\n",
            "[21,  6000] loss: 0.269\n",
            "[21,  8000] loss: 0.297\n",
            "[21, 10000] loss: 0.331\n",
            "[21, 12000] loss: 0.335\n",
            "Finshed Training\n"
          ],
          "name": "stdout"
        }
      ]
    },
    {
      "cell_type": "code",
      "metadata": {
        "id": "6LW8CVSuOKcP",
        "outputId": "f12a16c5-3695-4c68-d165-ecf0bbbee983",
        "colab": {
          "base_uri": "https://localhost:8080/",
          "height": 543
        }
      },
      "source": [
        "for epoch in range(5):\n",
        "  running_loss = 0.0\n",
        "  for i, data in enumerate(trainloader, 0):\n",
        "    inputs, labels = data\n",
        "    inputs, labels = Variable(inputs), Variable(labels)\n",
        "    device = t.device(\"cuda:0\" if t.cuda.is_available() else \"cpu\")\n",
        "    inputs, labels = data[0].to(device), data[1].to(device)\n",
        "    \n",
        "    net.to(device)\n",
        "    optimizer.zero_grad()\n",
        "\n",
        "    outputs = net(inputs)\n",
        "    loss = criterion(outputs, labels)\n",
        "    loss.backward()\n",
        "\n",
        "    optimizer.step()\n",
        "\n",
        "    running_loss += loss.data\n",
        "    if i%2000 == 1999:\n",
        "      print('[%d, %5d] loss: %.3f'\\\n",
        "            %(epoch+1,i+1,running_loss/2000))\n",
        "      running_loss = 0.0\n",
        "print('Finshed Training')"
      ],
      "execution_count": 14,
      "outputs": [
        {
          "output_type": "stream",
          "text": [
            "[1,  2000] loss: 0.231\n",
            "[1,  4000] loss: 0.259\n",
            "[1,  6000] loss: 0.273\n",
            "[1,  8000] loss: 0.307\n",
            "[1, 10000] loss: 0.317\n",
            "[1, 12000] loss: 0.339\n",
            "[2,  2000] loss: 0.209\n",
            "[2,  4000] loss: 0.254\n",
            "[2,  6000] loss: 0.307\n",
            "[2,  8000] loss: 0.285\n",
            "[2, 10000] loss: 0.329\n",
            "[2, 12000] loss: 0.343\n",
            "[3,  2000] loss: 0.225\n",
            "[3,  4000] loss: 0.238\n",
            "[3,  6000] loss: 0.278\n",
            "[3,  8000] loss: 0.287\n",
            "[3, 10000] loss: 0.296\n",
            "[3, 12000] loss: 0.330\n",
            "[4,  2000] loss: 0.223\n",
            "[4,  4000] loss: 0.232\n",
            "[4,  6000] loss: 0.257\n",
            "[4,  8000] loss: 0.255\n",
            "[4, 10000] loss: 0.303\n",
            "[4, 12000] loss: 0.311\n",
            "[5,  2000] loss: 0.212\n",
            "[5,  4000] loss: 0.217\n",
            "[5,  6000] loss: 0.233\n",
            "[5,  8000] loss: 0.272\n",
            "[5, 10000] loss: 0.274\n",
            "[5, 12000] loss: 0.310\n",
            "Finshed Training\n"
          ],
          "name": "stdout"
        }
      ]
    },
    {
      "cell_type": "code",
      "metadata": {
        "id": "n8Cs0QaV8r5M",
        "outputId": "98597a97-95bf-4a0c-ee8f-1d6454099191",
        "colab": {
          "base_uri": "https://localhost:8080/",
          "height": 134
        }
      },
      "source": [
        "dataiter = iter(testloader)\n",
        "images, labels = dataiter.next()\n",
        "print('实际的label：',''.join(\\\n",
        "                          '%08s'%classes[labels[j]] for j in range(4)))\n",
        "show(tv.utils.make_grid(images/2 + 0.5)).resize((400,100))"
      ],
      "execution_count": 15,
      "outputs": [
        {
          "output_type": "stream",
          "text": [
            "实际的label：     frog   truck   truck    deer\n"
          ],
          "name": "stdout"
        },
        {
          "output_type": "execute_result",
          "data": {
            "image/png": "[encoded data removed]",
            "text/plain": [
              "<PIL.Image.Image image mode=RGB size=400x100 at 0x7F75C791BC18>"
            ]
          },
          "metadata": {
            "tags": []
          },
          "execution_count": 15
        }
      ]
    },
    {
      "cell_type": "code",
      "metadata": {
        "id": "zPI-GZMI9iQy",
        "outputId": "cc0dc1d4-80ee-4750-94a0-0587407da81b",
        "colab": {
          "base_uri": "https://localhost:8080/",
          "height": 34
        }
      },
      "source": [
        "outputs = net(images.to(device))\n",
        "\n",
        "_, pridected = t.max(outputs.cpu().data, 1)\n",
        "\n",
        "print('预测结果：',''.join(' %5s'\\\n",
        "                      %classes[pridected[j]] for j in range(4)))"
      ],
      "execution_count": 16,
      "outputs": [
        {
          "output_type": "stream",
          "text": [
            "预测结果：   frog truck truck  deer\n"
          ],
          "name": "stdout"
        }
      ]
    },
    {
      "cell_type": "code",
      "metadata": {
        "id": "dwh10fW3_IUT",
        "outputId": "bf3fef4d-8720-4510-bdbd-530ac2be4c41",
        "colab": {
          "base_uri": "https://localhost:8080/",
          "height": 34
        }
      },
      "source": [
        "correct = 0.0\n",
        "total = 0.0\n",
        "for data in testloader:\n",
        "  images, labels = data\n",
        "  outputs = net(images.to(device))\n",
        "  _,predicteds = t.max(outputs.cpu().data, 1)\n",
        "  total += labels.size(0)\n",
        "  correct += (predicteds == labels).sum()\n",
        "\n",
        "print('准确率：%d %%' %(100*correct/total))"
      ],
      "execution_count": 17,
      "outputs": [
        {
          "output_type": "stream",
          "text": [
            "准确率：92 %\n"
          ],
          "name": "stdout"
        }
      ]
    }
  ]
}